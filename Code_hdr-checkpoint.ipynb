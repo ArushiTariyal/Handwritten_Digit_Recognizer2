{
 "cells": [
  {
   "cell_type": "code",
   "execution_count": 1,
   "id": "e7714afe-278a-40dd-99a4-677643fdf809",
   "metadata": {},
   "outputs": [],
   "source": [
    "import pandas as pd\n",
    "import numpy as np\n",
    "\n",
    "np.random.seed(1212)\n",
    "\n",
    "import keras\n",
    "from keras.models import Model\n",
    "from keras.layers import *\n",
    "from keras import optimizers"
   ]
  },
  {
   "cell_type": "code",
   "execution_count": 2,
   "id": "ca74be62-4945-4a09-8957-3732fc3d28ee",
   "metadata": {},
   "outputs": [],
   "source": [
    "df_train = pd.read_csv(\"C://Users//arush//Python_Proj_HandwrittenDigitRecog//train.csv//train.csv\")\n",
    "df_test = pd.read_csv(\"C://Users//arush//Python_Proj_HandwrittenDigitRecog//test.csv//test.csv\")"
   ]
  },
  {
   "cell_type": "code",
   "execution_count": 3,
   "id": "d4831a2f-bb60-48ff-850f-3ce11f529493",
   "metadata": {},
   "outputs": [
    {
     "name": "stdout",
     "output_type": "stream",
     "text": [
      "(28000, 784)\n"
     ]
    }
   ],
   "source": [
    "df_features = df_train.iloc[:, 1:785]\n",
    "df_label = df_train.iloc[:, 0]\n",
    "\n",
    "X_test = df_test.iloc[:, 0:784]\n",
    "\n",
    "print(X_test.shape)"
   ]
  },
  {
   "cell_type": "code",
   "execution_count": 4,
   "id": "6e341683-9c00-4131-b9ce-8290024ea72c",
   "metadata": {},
   "outputs": [],
   "source": [
    "from sklearn.model_selection import train_test_split\n",
    "X_train, X_cv, y_train, y_cv = train_test_split(df_features, df_label, \n",
    "                                                test_size = 0.2,\n",
    "                                                random_state = 1212)\n",
    "\n",
    "X_train = X_train.values.reshape(33600, 784) #(33600, 784)\n",
    "X_cv = X_cv.values.reshape(8400, 784) #(8400, 784)\n",
    "\n",
    "X_test = X_test.values.reshape(28000, 784)"
   ]
  },
  {
   "cell_type": "code",
   "execution_count": 5,
   "id": "b22477f2-a1ee-4960-a6b3-59eb8f3552f2",
   "metadata": {},
   "outputs": [
    {
     "name": "stdout",
     "output_type": "stream",
     "text": [
      "(0, 255)\n"
     ]
    }
   ],
   "source": [
    "print((min(X_train[1]), max(X_train[1])))"
   ]
  },
  {
   "cell_type": "code",
   "execution_count": 6,
   "id": "2fd179d4-1bd0-47c6-8314-ae25121c01a6",
   "metadata": {},
   "outputs": [],
   "source": [
    "# Feature Normalization \n",
    "X_train = X_train.astype('float32'); X_cv= X_cv.astype('float32'); X_test = X_test.astype('float32')\n",
    "X_train /= 255; X_cv /= 255; X_test /= 255\n",
    "\n",
    "# Convert labels to One Hot Encoded\n",
    "num_digits = 10\n",
    "y_train = keras.utils.to_categorical(y_train, num_digits)\n",
    "y_cv = keras.utils.to_categorical(y_cv, num_digits)"
   ]
  },
  {
   "cell_type": "code",
   "execution_count": 7,
   "id": "d643ef94-e7f1-4f78-bcfc-c3926eab7f62",
   "metadata": {},
   "outputs": [
    {
     "name": "stdout",
     "output_type": "stream",
     "text": [
      "[0. 0. 1. 0. 0. 0. 0. 0. 0. 0.]\n",
      "[0. 0. 0. 0. 0. 0. 0. 1. 0. 0.]\n"
     ]
    }
   ],
   "source": [
    "# Printing 2 examples of labels after conversion\n",
    "print(y_train[0]) # 2\n",
    "print(y_train[3]) # 7"
   ]
  },
  {
   "cell_type": "code",
   "execution_count": 8,
   "id": "60878e42-f51f-427a-bdcc-1239b4d90f5d",
   "metadata": {},
   "outputs": [],
   "source": [
    "# Input Parameters\n",
    "n_input = 784 # number of features\n",
    "n_hidden_1 = 300\n",
    "n_hidden_2 = 100\n",
    "n_hidden_3 = 100\n",
    "n_hidden_4 = 200\n",
    "num_digits = 10"
   ]
  },
  {
   "cell_type": "code",
   "execution_count": 9,
   "id": "515f0af6-a8cd-4f72-a9cd-1e98f6221f56",
   "metadata": {},
   "outputs": [],
   "source": [
    "Inp = Input(shape=(784,))\n",
    "x = Dense(n_hidden_1, activation='relu', name = \"Hidden_Layer_1\")(Inp)\n",
    "x = Dense(n_hidden_2, activation='relu', name = \"Hidden_Layer_2\")(x)\n",
    "x = Dense(n_hidden_3, activation='relu', name = \"Hidden_Layer_3\")(x)\n",
    "x = Dense(n_hidden_4, activation='relu', name = \"Hidden_Layer_4\")(x)\n",
    "output = Dense(num_digits, activation='softmax', name = \"Output_Layer\")(x)"
   ]
  },
  {
   "cell_type": "code",
   "execution_count": 10,
   "id": "2f0e2691-5934-4591-9aff-fefc48b22f5a",
   "metadata": {},
   "outputs": [
    {
     "name": "stdout",
     "output_type": "stream",
     "text": [
      "Model: \"model\"\n",
      "_________________________________________________________________\n",
      " Layer (type)                Output Shape              Param #   \n",
      "=================================================================\n",
      " input_1 (InputLayer)        [(None, 784)]             0         \n",
      "                                                                 \n",
      " Hidden_Layer_1 (Dense)      (None, 300)               235500    \n",
      "                                                                 \n",
      " Hidden_Layer_2 (Dense)      (None, 100)               30100     \n",
      "                                                                 \n",
      " Hidden_Layer_3 (Dense)      (None, 100)               10100     \n",
      "                                                                 \n",
      " Hidden_Layer_4 (Dense)      (None, 200)               20200     \n",
      "                                                                 \n",
      " Output_Layer (Dense)        (None, 10)                2010      \n",
      "                                                                 \n",
      "=================================================================\n",
      "Total params: 297,910\n",
      "Trainable params: 297,910\n",
      "Non-trainable params: 0\n",
      "_________________________________________________________________\n"
     ]
    }
   ],
   "source": [
    "# Our model would have '6' layers - input layer, 4 hidden layer and 1 output layer\n",
    "model = Model(Inp, output)\n",
    "model.summary() # We have 297,910 parameters to estimate"
   ]
  },
  {
   "cell_type": "code",
   "execution_count": 11,
   "id": "b2b27971-ccc9-4ee3-8095-070b715f2544",
   "metadata": {},
   "outputs": [],
   "source": [
    "# Insert Hyperparameters\n",
    "learning_rate = 0.1\n",
    "training_epochs = 20\n",
    "batch_size = 100\n",
    "sgd = optimizers.SGD(learning_rate=learning_rate)"
   ]
  },
  {
   "cell_type": "code",
   "execution_count": 12,
   "id": "6975778f-0458-4605-ad5f-495e15bbfb2e",
   "metadata": {},
   "outputs": [],
   "source": [
    "# We rely on the plain vanilla Stochastic Gradient Descent as our optimizing methodology\n",
    "model.compile(loss='categorical_crossentropy',\n",
    "              optimizer='sgd',\n",
    "              metrics=['accuracy'])"
   ]
  },
  {
   "cell_type": "code",
   "execution_count": 13,
   "id": "b40f3f53-4632-4db8-9547-9c731d260727",
   "metadata": {},
   "outputs": [
    {
     "name": "stdout",
     "output_type": "stream",
     "text": [
      "Epoch 1/20\n",
      "336/336 - 4s - loss: 1.7433 - accuracy: 0.5654 - val_loss: 0.8442 - val_accuracy: 0.7993 - 4s/epoch - 12ms/step\n",
      "Epoch 2/20\n",
      "336/336 - 2s - loss: 0.5668 - accuracy: 0.8454 - val_loss: 0.4332 - val_accuracy: 0.8743 - 2s/epoch - 6ms/step\n",
      "Epoch 3/20\n",
      "336/336 - 2s - loss: 0.3876 - accuracy: 0.8878 - val_loss: 0.3462 - val_accuracy: 0.8986 - 2s/epoch - 7ms/step\n",
      "Epoch 4/20\n",
      "336/336 - 2s - loss: 0.3272 - accuracy: 0.9043 - val_loss: 0.3109 - val_accuracy: 0.9087 - 2s/epoch - 7ms/step\n",
      "Epoch 5/20\n",
      "336/336 - 2s - loss: 0.2903 - accuracy: 0.9137 - val_loss: 0.2809 - val_accuracy: 0.9179 - 2s/epoch - 6ms/step\n",
      "Epoch 6/20\n",
      "336/336 - 2s - loss: 0.2633 - accuracy: 0.9219 - val_loss: 0.2594 - val_accuracy: 0.9242 - 2s/epoch - 6ms/step\n",
      "Epoch 7/20\n",
      "336/336 - 2s - loss: 0.2421 - accuracy: 0.9284 - val_loss: 0.2420 - val_accuracy: 0.9276 - 2s/epoch - 6ms/step\n",
      "Epoch 8/20\n",
      "336/336 - 2s - loss: 0.2233 - accuracy: 0.9346 - val_loss: 0.2254 - val_accuracy: 0.9336 - 2s/epoch - 6ms/step\n",
      "Epoch 9/20\n",
      "336/336 - 2s - loss: 0.2089 - accuracy: 0.9383 - val_loss: 0.2155 - val_accuracy: 0.9361 - 2s/epoch - 5ms/step\n",
      "Epoch 10/20\n",
      "336/336 - 2s - loss: 0.1954 - accuracy: 0.9425 - val_loss: 0.2120 - val_accuracy: 0.9392 - 2s/epoch - 5ms/step\n",
      "Epoch 11/20\n",
      "336/336 - 2s - loss: 0.1834 - accuracy: 0.9457 - val_loss: 0.1980 - val_accuracy: 0.9420 - 2s/epoch - 6ms/step\n",
      "Epoch 12/20\n",
      "336/336 - 2s - loss: 0.1727 - accuracy: 0.9494 - val_loss: 0.1898 - val_accuracy: 0.9450 - 2s/epoch - 6ms/step\n",
      "Epoch 13/20\n",
      "336/336 - 2s - loss: 0.1635 - accuracy: 0.9519 - val_loss: 0.1823 - val_accuracy: 0.9481 - 2s/epoch - 6ms/step\n",
      "Epoch 14/20\n",
      "336/336 - 2s - loss: 0.1540 - accuracy: 0.9554 - val_loss: 0.1777 - val_accuracy: 0.9496 - 2s/epoch - 6ms/step\n",
      "Epoch 15/20\n",
      "336/336 - 3s - loss: 0.1466 - accuracy: 0.9576 - val_loss: 0.1691 - val_accuracy: 0.9508 - 3s/epoch - 8ms/step\n",
      "Epoch 16/20\n",
      "336/336 - 2s - loss: 0.1390 - accuracy: 0.9590 - val_loss: 0.1646 - val_accuracy: 0.9530 - 2s/epoch - 6ms/step\n",
      "Epoch 17/20\n",
      "336/336 - 2s - loss: 0.1320 - accuracy: 0.9610 - val_loss: 0.1613 - val_accuracy: 0.9525 - 2s/epoch - 6ms/step\n",
      "Epoch 18/20\n",
      "336/336 - 3s - loss: 0.1254 - accuracy: 0.9633 - val_loss: 0.1562 - val_accuracy: 0.9560 - 3s/epoch - 9ms/step\n",
      "Epoch 19/20\n",
      "336/336 - 2s - loss: 0.1193 - accuracy: 0.9647 - val_loss: 0.1524 - val_accuracy: 0.9569 - 2s/epoch - 6ms/step\n",
      "Epoch 20/20\n",
      "336/336 - 2s - loss: 0.1135 - accuracy: 0.9664 - val_loss: 0.1490 - val_accuracy: 0.9573 - 2s/epoch - 7ms/step\n"
     ]
    }
   ],
   "source": [
    "history1 = model.fit(X_train, y_train,\n",
    "                     batch_size = batch_size,\n",
    "                     epochs = training_epochs,\n",
    "                     verbose = 2,\n",
    "                     validation_data=(X_cv, y_cv))"
   ]
  },
  {
   "cell_type": "code",
   "execution_count": 14,
   "id": "f0df3ec3-72d6-4c6f-97b7-dab3c1a54c65",
   "metadata": {},
   "outputs": [],
   "source": [
    "Inp = Input(shape=(784,))\n",
    "x = Dense(n_hidden_1, activation='relu', name = \"Hidden_Layer_1\")(Inp)\n",
    "x = Dense(n_hidden_2, activation='relu', name = \"Hidden_Layer_2\")(x)\n",
    "x = Dense(n_hidden_3, activation='relu', name = \"Hidden_Layer_3\")(x)\n",
    "x = Dense(n_hidden_4, activation='relu', name = \"Hidden_Layer_4\")(x)\n",
    "output = Dense(num_digits, activation='softmax', name = \"Output_Layer\")(x)\n",
    "\n",
    "# We rely on ADAM as our optimizing methodology\n",
    "adam = keras.optimizers.Adam(learning_rate=learning_rate)\n",
    "model2 = Model(Inp, output)\n",
    "\n",
    "model2.compile(loss='categorical_crossentropy',\n",
    "              optimizer='adam',\n",
    "              metrics=['accuracy'])"
   ]
  },
  {
   "cell_type": "code",
   "execution_count": 15,
   "id": "e8a21ff2-2b65-47cc-82ab-6ad41fd1c8a3",
   "metadata": {},
   "outputs": [
    {
     "name": "stdout",
     "output_type": "stream",
     "text": [
      "Epoch 1/20\n",
      "336/336 - 4s - loss: 0.3341 - accuracy: 0.9016 - val_loss: 0.1463 - val_accuracy: 0.9562 - 4s/epoch - 12ms/step\n",
      "Epoch 2/20\n",
      "336/336 - 2s - loss: 0.1258 - accuracy: 0.9619 - val_loss: 0.1119 - val_accuracy: 0.9642 - 2s/epoch - 7ms/step\n",
      "Epoch 3/20\n",
      "336/336 - 2s - loss: 0.0839 - accuracy: 0.9737 - val_loss: 0.1029 - val_accuracy: 0.9692 - 2s/epoch - 7ms/step\n",
      "Epoch 4/20\n",
      "336/336 - 2s - loss: 0.0614 - accuracy: 0.9802 - val_loss: 0.1146 - val_accuracy: 0.9649 - 2s/epoch - 7ms/step\n",
      "Epoch 5/20\n",
      "336/336 - 2s - loss: 0.0463 - accuracy: 0.9856 - val_loss: 0.1031 - val_accuracy: 0.9717 - 2s/epoch - 7ms/step\n",
      "Epoch 6/20\n",
      "336/336 - 2s - loss: 0.0385 - accuracy: 0.9869 - val_loss: 0.1005 - val_accuracy: 0.9723 - 2s/epoch - 7ms/step\n",
      "Epoch 7/20\n",
      "336/336 - 2s - loss: 0.0305 - accuracy: 0.9899 - val_loss: 0.0897 - val_accuracy: 0.9761 - 2s/epoch - 7ms/step\n",
      "Epoch 8/20\n",
      "336/336 - 2s - loss: 0.0257 - accuracy: 0.9915 - val_loss: 0.0921 - val_accuracy: 0.9757 - 2s/epoch - 7ms/step\n",
      "Epoch 9/20\n",
      "336/336 - 2s - loss: 0.0271 - accuracy: 0.9909 - val_loss: 0.1083 - val_accuracy: 0.9736 - 2s/epoch - 7ms/step\n",
      "Epoch 10/20\n",
      "336/336 - 3s - loss: 0.0241 - accuracy: 0.9922 - val_loss: 0.1099 - val_accuracy: 0.9719 - 3s/epoch - 8ms/step\n",
      "Epoch 11/20\n",
      "336/336 - 3s - loss: 0.0209 - accuracy: 0.9928 - val_loss: 0.0983 - val_accuracy: 0.9768 - 3s/epoch - 8ms/step\n",
      "Epoch 12/20\n",
      "336/336 - 3s - loss: 0.0112 - accuracy: 0.9965 - val_loss: 0.1455 - val_accuracy: 0.9639 - 3s/epoch - 8ms/step\n",
      "Epoch 13/20\n",
      "336/336 - 2s - loss: 0.0189 - accuracy: 0.9937 - val_loss: 0.1214 - val_accuracy: 0.9733 - 2s/epoch - 6ms/step\n",
      "Epoch 14/20\n",
      "336/336 - 2s - loss: 0.0157 - accuracy: 0.9948 - val_loss: 0.1215 - val_accuracy: 0.9732 - 2s/epoch - 7ms/step\n",
      "Epoch 15/20\n",
      "336/336 - 2s - loss: 0.0184 - accuracy: 0.9942 - val_loss: 0.1151 - val_accuracy: 0.9731 - 2s/epoch - 6ms/step\n",
      "Epoch 16/20\n",
      "336/336 - 2s - loss: 0.0085 - accuracy: 0.9974 - val_loss: 0.1448 - val_accuracy: 0.9696 - 2s/epoch - 6ms/step\n",
      "Epoch 17/20\n",
      "336/336 - 2s - loss: 0.0127 - accuracy: 0.9960 - val_loss: 0.1265 - val_accuracy: 0.9730 - 2s/epoch - 7ms/step\n",
      "Epoch 18/20\n",
      "336/336 - 2s - loss: 0.0154 - accuracy: 0.9949 - val_loss: 0.0993 - val_accuracy: 0.9802 - 2s/epoch - 7ms/step\n",
      "Epoch 19/20\n",
      "336/336 - 2s - loss: 0.0106 - accuracy: 0.9965 - val_loss: 0.1161 - val_accuracy: 0.9757 - 2s/epoch - 7ms/step\n",
      "Epoch 20/20\n",
      "336/336 - 2s - loss: 0.0107 - accuracy: 0.9967 - val_loss: 0.1105 - val_accuracy: 0.9775 - 2s/epoch - 6ms/step\n"
     ]
    }
   ],
   "source": [
    "history2 = model2.fit(X_train, y_train,\n",
    "                      batch_size = batch_size,\n",
    "                      epochs = training_epochs,\n",
    "                      verbose = 2,\n",
    "                      validation_data=(X_cv, y_cv))"
   ]
  },
  {
   "cell_type": "code",
   "execution_count": 16,
   "id": "9ed881ee-364b-4ac3-9054-2ab8982c66d7",
   "metadata": {},
   "outputs": [],
   "source": [
    "Inp = Input(shape=(784,))\n",
    "x = Dense(n_hidden_1, activation='relu', name = \"Hidden_Layer_1\")(Inp)\n",
    "x = Dense(n_hidden_2, activation='relu', name = \"Hidden_Layer_2\")(x)\n",
    "x = Dense(n_hidden_3, activation='relu', name = \"Hidden_Layer_3\")(x)\n",
    "x = Dense(n_hidden_4, activation='relu', name = \"Hidden_Layer_4\")(x)\n",
    "output = Dense(num_digits, activation='softmax', name = \"Output_Layer\")(x)\n",
    "\n",
    "learning_rate = 0.01\n",
    "adam = keras.optimizers.Adam(learning_rate=learning_rate)\n",
    "model2a = Model(Inp, output)\n",
    "\n",
    "model2a.compile(loss='categorical_crossentropy',\n",
    "              optimizer='adam',\n",
    "              metrics=['accuracy'])"
   ]
  },
  {
   "cell_type": "code",
   "execution_count": 17,
   "id": "61ff4b92-59cd-4fd4-9335-9dca407d0ee1",
   "metadata": {},
   "outputs": [
    {
     "name": "stdout",
     "output_type": "stream",
     "text": [
      "Epoch 1/20\n",
      "336/336 - 4s - loss: 0.3411 - accuracy: 0.8982 - val_loss: 0.1556 - val_accuracy: 0.9529 - 4s/epoch - 13ms/step\n",
      "Epoch 2/20\n",
      "336/336 - 2s - loss: 0.1189 - accuracy: 0.9637 - val_loss: 0.1106 - val_accuracy: 0.9663 - 2s/epoch - 6ms/step\n",
      "Epoch 3/20\n",
      "336/336 - 2s - loss: 0.0816 - accuracy: 0.9737 - val_loss: 0.1209 - val_accuracy: 0.9630 - 2s/epoch - 7ms/step\n",
      "Epoch 4/20\n",
      "336/336 - 2s - loss: 0.0571 - accuracy: 0.9810 - val_loss: 0.1016 - val_accuracy: 0.9698 - 2s/epoch - 7ms/step\n",
      "Epoch 5/20\n",
      "336/336 - 3s - loss: 0.0434 - accuracy: 0.9860 - val_loss: 0.1124 - val_accuracy: 0.9701 - 3s/epoch - 8ms/step\n",
      "Epoch 6/20\n",
      "336/336 - 2s - loss: 0.0375 - accuracy: 0.9885 - val_loss: 0.0984 - val_accuracy: 0.9748 - 2s/epoch - 7ms/step\n",
      "Epoch 7/20\n",
      "336/336 - 2s - loss: 0.0311 - accuracy: 0.9901 - val_loss: 0.1346 - val_accuracy: 0.9649 - 2s/epoch - 7ms/step\n",
      "Epoch 8/20\n",
      "336/336 - 2s - loss: 0.0254 - accuracy: 0.9918 - val_loss: 0.0919 - val_accuracy: 0.9770 - 2s/epoch - 7ms/step\n",
      "Epoch 9/20\n",
      "336/336 - 2s - loss: 0.0235 - accuracy: 0.9926 - val_loss: 0.0989 - val_accuracy: 0.9756 - 2s/epoch - 7ms/step\n",
      "Epoch 10/20\n",
      "336/336 - 2s - loss: 0.0207 - accuracy: 0.9933 - val_loss: 0.1003 - val_accuracy: 0.9764 - 2s/epoch - 7ms/step\n",
      "Epoch 11/20\n",
      "336/336 - 2s - loss: 0.0206 - accuracy: 0.9936 - val_loss: 0.1153 - val_accuracy: 0.9718 - 2s/epoch - 7ms/step\n",
      "Epoch 12/20\n",
      "336/336 - 2s - loss: 0.0189 - accuracy: 0.9935 - val_loss: 0.0950 - val_accuracy: 0.9776 - 2s/epoch - 6ms/step\n",
      "Epoch 13/20\n",
      "336/336 - 2s - loss: 0.0094 - accuracy: 0.9968 - val_loss: 0.1397 - val_accuracy: 0.9729 - 2s/epoch - 6ms/step\n",
      "Epoch 14/20\n",
      "336/336 - 4s - loss: 0.0156 - accuracy: 0.9953 - val_loss: 0.1044 - val_accuracy: 0.9743 - 4s/epoch - 12ms/step\n",
      "Epoch 15/20\n",
      "336/336 - 2s - loss: 0.0115 - accuracy: 0.9964 - val_loss: 0.1185 - val_accuracy: 0.9769 - 2s/epoch - 7ms/step\n",
      "Epoch 16/20\n",
      "336/336 - 4s - loss: 0.0168 - accuracy: 0.9945 - val_loss: 0.1093 - val_accuracy: 0.9770 - 4s/epoch - 12ms/step\n",
      "Epoch 17/20\n",
      "336/336 - 3s - loss: 0.0160 - accuracy: 0.9953 - val_loss: 0.1289 - val_accuracy: 0.9723 - 3s/epoch - 9ms/step\n",
      "Epoch 18/20\n",
      "336/336 - 3s - loss: 0.0111 - accuracy: 0.9966 - val_loss: 0.1027 - val_accuracy: 0.9794 - 3s/epoch - 8ms/step\n",
      "Epoch 19/20\n",
      "336/336 - 3s - loss: 0.0150 - accuracy: 0.9955 - val_loss: 0.1071 - val_accuracy: 0.9781 - 3s/epoch - 8ms/step\n",
      "Epoch 20/20\n",
      "336/336 - 3s - loss: 0.0095 - accuracy: 0.9973 - val_loss: 0.1111 - val_accuracy: 0.9788 - 3s/epoch - 8ms/step\n"
     ]
    }
   ],
   "source": [
    "history2a = model2a.fit(X_train, y_train,\n",
    "                        batch_size = batch_size,\n",
    "                        epochs = training_epochs,\n",
    "                        verbose = 2,\n",
    "                        validation_data=(X_cv, y_cv))"
   ]
  },
  {
   "cell_type": "code",
   "execution_count": 18,
   "id": "d4a69fd8-fb1a-41ab-acb0-a20ad35ea915",
   "metadata": {},
   "outputs": [],
   "source": [
    "Inp = Input(shape=(784,))\n",
    "x = Dense(n_hidden_1, activation='relu', name = \"Hidden_Layer_1\")(Inp)\n",
    "x = Dense(n_hidden_2, activation='relu', name = \"Hidden_Layer_2\")(x)\n",
    "x = Dense(n_hidden_3, activation='relu', name = \"Hidden_Layer_3\")(x)\n",
    "x = Dense(n_hidden_4, activation='relu', name = \"Hidden_Layer_4\")(x)\n",
    "output = Dense(num_digits, activation='softmax', name = \"Output_Layer\")(x)\n",
    "\n",
    "learning_rate = 0.5\n",
    "adam = keras.optimizers.Adam(learning_rate=learning_rate)\n",
    "model2b = Model(Inp, output)\n",
    "\n",
    "model2b.compile(loss='categorical_crossentropy',\n",
    "              optimizer='adam',\n",
    "              metrics=['accuracy'])"
   ]
  },
  {
   "cell_type": "code",
   "execution_count": 19,
   "id": "4b9bd2a1-7c76-434b-b4eb-bd75e98a5725",
   "metadata": {},
   "outputs": [
    {
     "name": "stdout",
     "output_type": "stream",
     "text": [
      "Epoch 1/20\n",
      "336/336 [==============================] - 4s 9ms/step - loss: 0.3387 - accuracy: 0.8995 - val_loss: 0.1612 - val_accuracy: 0.9520\n",
      "Epoch 2/20\n",
      "336/336 [==============================] - 3s 8ms/step - loss: 0.1229 - accuracy: 0.9622 - val_loss: 0.1174 - val_accuracy: 0.9638\n",
      "Epoch 3/20\n",
      "336/336 [==============================] - 3s 8ms/step - loss: 0.0816 - accuracy: 0.9738 - val_loss: 0.1011 - val_accuracy: 0.9706\n",
      "Epoch 4/20\n",
      "336/336 [==============================] - 2s 7ms/step - loss: 0.0577 - accuracy: 0.9821 - val_loss: 0.0988 - val_accuracy: 0.9707\n",
      "Epoch 5/20\n",
      "336/336 [==============================] - 3s 8ms/step - loss: 0.0426 - accuracy: 0.9862 - val_loss: 0.0956 - val_accuracy: 0.9710\n",
      "Epoch 6/20\n",
      "336/336 [==============================] - 3s 8ms/step - loss: 0.0366 - accuracy: 0.9876 - val_loss: 0.0999 - val_accuracy: 0.9743\n",
      "Epoch 7/20\n",
      "336/336 [==============================] - 3s 9ms/step - loss: 0.0285 - accuracy: 0.9909 - val_loss: 0.1055 - val_accuracy: 0.9713\n",
      "Epoch 8/20\n",
      "336/336 [==============================] - 3s 9ms/step - loss: 0.0256 - accuracy: 0.9917 - val_loss: 0.0937 - val_accuracy: 0.9755\n",
      "Epoch 9/20\n",
      "336/336 [==============================] - 3s 8ms/step - loss: 0.0243 - accuracy: 0.9924 - val_loss: 0.1140 - val_accuracy: 0.9735\n",
      "Epoch 10/20\n",
      "336/336 [==============================] - 3s 8ms/step - loss: 0.0213 - accuracy: 0.9931 - val_loss: 0.1023 - val_accuracy: 0.9755\n",
      "Epoch 11/20\n",
      "336/336 [==============================] - 3s 8ms/step - loss: 0.0189 - accuracy: 0.9938 - val_loss: 0.1116 - val_accuracy: 0.9737\n",
      "Epoch 12/20\n",
      "336/336 [==============================] - 4s 11ms/step - loss: 0.0227 - accuracy: 0.9925 - val_loss: 0.1027 - val_accuracy: 0.9749\n",
      "Epoch 13/20\n",
      "336/336 [==============================] - 3s 9ms/step - loss: 0.0100 - accuracy: 0.9970 - val_loss: 0.1009 - val_accuracy: 0.9779\n",
      "Epoch 14/20\n",
      "336/336 [==============================] - 3s 8ms/step - loss: 0.0190 - accuracy: 0.9938 - val_loss: 0.1115 - val_accuracy: 0.9769\n",
      "Epoch 15/20\n",
      "336/336 [==============================] - 3s 10ms/step - loss: 0.0126 - accuracy: 0.9960 - val_loss: 0.1083 - val_accuracy: 0.9751\n",
      "Epoch 16/20\n",
      "336/336 [==============================] - 3s 8ms/step - loss: 0.0155 - accuracy: 0.9954 - val_loss: 0.1287 - val_accuracy: 0.9699\n",
      "Epoch 17/20\n",
      "336/336 [==============================] - 3s 8ms/step - loss: 0.0110 - accuracy: 0.9964 - val_loss: 0.1168 - val_accuracy: 0.9760\n",
      "Epoch 18/20\n",
      "336/336 [==============================] - 4s 12ms/step - loss: 0.0086 - accuracy: 0.9977 - val_loss: 0.1199 - val_accuracy: 0.9777\n",
      "Epoch 19/20\n",
      "336/336 [==============================] - 3s 10ms/step - loss: 0.0181 - accuracy: 0.9938 - val_loss: 0.1040 - val_accuracy: 0.9785\n",
      "Epoch 20/20\n",
      "336/336 [==============================] - 3s 8ms/step - loss: 0.0132 - accuracy: 0.9961 - val_loss: 0.1248 - val_accuracy: 0.9751\n"
     ]
    }
   ],
   "source": [
    "history2b = model2b.fit(X_train, y_train,\n",
    "                        batch_size = batch_size,\n",
    "                        epochs = training_epochs,\n",
    "                            validation_data=(X_cv, y_cv))"
   ]
  },
  {
   "cell_type": "code",
   "execution_count": 20,
   "id": "c0d9cb76-24ce-47d8-ab29-1983afcf6d59",
   "metadata": {},
   "outputs": [],
   "source": [
    "# Input Parameters\n",
    "n_input = 784 # number of features\n",
    "n_hidden_1 = 300\n",
    "n_hidden_2 = 100\n",
    "n_hidden_3 = 100\n",
    "n_hidden_4 = 100\n",
    "n_hidden_5 = 200\n",
    "num_digits = 10"
   ]
  },
  {
   "cell_type": "code",
   "execution_count": 21,
   "id": "181aba91-b160-400e-9833-48ab6f3dfc39",
   "metadata": {},
   "outputs": [],
   "source": [
    "Inp = Input(shape=(784,))\n",
    "x = Dense(n_hidden_1, activation='relu', name = \"Hidden_Layer_1\")(Inp)\n",
    "x = Dense(n_hidden_2, activation='relu', name = \"Hidden_Layer_2\")(x)\n",
    "x = Dense(n_hidden_3, activation='relu', name = \"Hidden_Layer_3\")(x)\n",
    "x = Dense(n_hidden_4, activation='relu', name = \"Hidden_Layer_4\")(x)\n",
    "x = Dense(n_hidden_5, activation='relu', name = \"Hidden_Layer_5\")(x)\n",
    "output = Dense(num_digits, activation='softmax', name = \"Output_Layer\")(x)"
   ]
  },
  {
   "cell_type": "code",
   "execution_count": 22,
   "id": "331b55be-4611-48b9-b993-7c6e0a57ae41",
   "metadata": {},
   "outputs": [
    {
     "name": "stdout",
     "output_type": "stream",
     "text": [
      "Model: \"model_4\"\n",
      "_________________________________________________________________\n",
      " Layer (type)                Output Shape              Param #   \n",
      "=================================================================\n",
      " input_5 (InputLayer)        [(None, 784)]             0         \n",
      "                                                                 \n",
      " Hidden_Layer_1 (Dense)      (None, 300)               235500    \n",
      "                                                                 \n",
      " Hidden_Layer_2 (Dense)      (None, 100)               30100     \n",
      "                                                                 \n",
      " Hidden_Layer_3 (Dense)      (None, 100)               10100     \n",
      "                                                                 \n",
      " Hidden_Layer_4 (Dense)      (None, 100)               10100     \n",
      "                                                                 \n",
      " Hidden_Layer_5 (Dense)      (None, 200)               20200     \n",
      "                                                                 \n",
      " Output_Layer (Dense)        (None, 10)                2010      \n",
      "                                                                 \n",
      "=================================================================\n",
      "Total params: 308,010\n",
      "Trainable params: 308,010\n",
      "Non-trainable params: 0\n",
      "_________________________________________________________________\n"
     ]
    }
   ],
   "source": [
    "# Our model would have '7' layers - input layer, 5 hidden layer and 1 output layer\n",
    "model3 = Model(Inp, output)\n",
    "model3.summary() # We have 308,010 parameters to estimate"
   ]
  },
  {
   "cell_type": "code",
   "execution_count": 23,
   "id": "e1e15cbb-b0a8-4f89-8df6-93275978a1f1",
   "metadata": {},
   "outputs": [],
   "source": [
    "# We rely on 'Adam' as our optimizing methodology\n",
    "adam = keras.optimizers.Adam(learning_rate=0.01)\n",
    "\n",
    "model3.compile(loss='categorical_crossentropy',\n",
    "              optimizer='adam',\n",
    "              metrics=['accuracy'])"
   ]
  },
  {
   "cell_type": "code",
   "execution_count": 24,
   "id": "7b4af26c-c749-4c2b-832c-da1a2090371b",
   "metadata": {},
   "outputs": [
    {
     "name": "stdout",
     "output_type": "stream",
     "text": [
      "Epoch 1/20\n",
      "336/336 [==============================] - 5s 10ms/step - loss: 0.3469 - accuracy: 0.8975 - val_loss: 0.1571 - val_accuracy: 0.9521\n",
      "Epoch 2/20\n",
      "336/336 [==============================] - 3s 9ms/step - loss: 0.1231 - accuracy: 0.9629 - val_loss: 0.1320 - val_accuracy: 0.9617\n",
      "Epoch 3/20\n",
      "336/336 [==============================] - 3s 9ms/step - loss: 0.0865 - accuracy: 0.9724 - val_loss: 0.1157 - val_accuracy: 0.9667\n",
      "Epoch 4/20\n",
      "336/336 [==============================] - 3s 9ms/step - loss: 0.0623 - accuracy: 0.9798 - val_loss: 0.1216 - val_accuracy: 0.9638\n",
      "Epoch 5/20\n",
      "336/336 [==============================] - 3s 8ms/step - loss: 0.0467 - accuracy: 0.9850 - val_loss: 0.1015 - val_accuracy: 0.9712\n",
      "Epoch 6/20\n",
      "336/336 [==============================] - 3s 9ms/step - loss: 0.0365 - accuracy: 0.9884 - val_loss: 0.1042 - val_accuracy: 0.9727\n",
      "Epoch 7/20\n",
      "336/336 [==============================] - 3s 9ms/step - loss: 0.0312 - accuracy: 0.9900 - val_loss: 0.1070 - val_accuracy: 0.9726\n",
      "Epoch 8/20\n",
      "336/336 [==============================] - 3s 8ms/step - loss: 0.0283 - accuracy: 0.9907 - val_loss: 0.1235 - val_accuracy: 0.9712\n",
      "Epoch 9/20\n",
      "336/336 [==============================] - 3s 8ms/step - loss: 0.0276 - accuracy: 0.9913 - val_loss: 0.1365 - val_accuracy: 0.9704\n",
      "Epoch 10/20\n",
      "336/336 [==============================] - 3s 8ms/step - loss: 0.0204 - accuracy: 0.9937 - val_loss: 0.1118 - val_accuracy: 0.9743\n",
      "Epoch 11/20\n",
      "336/336 [==============================] - 3s 8ms/step - loss: 0.0208 - accuracy: 0.9935 - val_loss: 0.1319 - val_accuracy: 0.9700\n",
      "Epoch 12/20\n",
      "336/336 [==============================] - 3s 8ms/step - loss: 0.0210 - accuracy: 0.9939 - val_loss: 0.0986 - val_accuracy: 0.9788\n",
      "Epoch 13/20\n",
      "336/336 [==============================] - 3s 9ms/step - loss: 0.0199 - accuracy: 0.9939 - val_loss: 0.1244 - val_accuracy: 0.9705\n",
      "Epoch 14/20\n",
      "336/336 [==============================] - 3s 9ms/step - loss: 0.0215 - accuracy: 0.9937 - val_loss: 0.1344 - val_accuracy: 0.9711\n",
      "Epoch 15/20\n",
      "336/336 [==============================] - 3s 8ms/step - loss: 0.0164 - accuracy: 0.9945 - val_loss: 0.1094 - val_accuracy: 0.9775\n",
      "Epoch 16/20\n",
      "336/336 [==============================] - 3s 8ms/step - loss: 0.0192 - accuracy: 0.9937 - val_loss: 0.1131 - val_accuracy: 0.9740\n",
      "Epoch 17/20\n",
      "336/336 [==============================] - 3s 10ms/step - loss: 0.0116 - accuracy: 0.9962 - val_loss: 0.1305 - val_accuracy: 0.9743\n",
      "Epoch 18/20\n",
      "336/336 [==============================] - 3s 8ms/step - loss: 0.0142 - accuracy: 0.9956 - val_loss: 0.1158 - val_accuracy: 0.9762\n",
      "Epoch 19/20\n",
      "336/336 [==============================] - 3s 7ms/step - loss: 0.0130 - accuracy: 0.9960 - val_loss: 0.1221 - val_accuracy: 0.9781\n",
      "Epoch 20/20\n",
      "336/336 [==============================] - 3s 8ms/step - loss: 0.0122 - accuracy: 0.9960 - val_loss: 0.1470 - val_accuracy: 0.9721\n"
     ]
    }
   ],
   "source": [
    "history3 = model3.fit(X_train, y_train,\n",
    "                      batch_size = batch_size,\n",
    "                      epochs = training_epochs,\n",
    "                      validation_data=(X_cv, y_cv))"
   ]
  },
  {
   "cell_type": "code",
   "execution_count": 25,
   "id": "78354e10-c5ea-44a2-9470-1acf2d059c25",
   "metadata": {},
   "outputs": [],
   "source": [
    "# Input Parameters\n",
    "n_input = 784 # number of features\n",
    "n_hidden_1 = 300\n",
    "n_hidden_2 = 100\n",
    "n_hidden_3 = 100\n",
    "n_hidden_4 = 200\n",
    "num_digits = 10"
   ]
  },
  {
   "cell_type": "code",
   "execution_count": 26,
   "id": "440cc067-c341-4e33-bd35-1bce613dcf76",
   "metadata": {},
   "outputs": [],
   "source": [
    "Inp = Input(shape=(784,))\n",
    "x = Dense(n_hidden_1, activation='relu', name = \"Hidden_Layer_1\")(Inp)\n",
    "x = Dropout(0.3)(x)\n",
    "x = Dense(n_hidden_2, activation='relu', name = \"Hidden_Layer_2\")(x)\n",
    "x = Dropout(0.3)(x)\n",
    "x = Dense(n_hidden_3, activation='relu', name = \"Hidden_Layer_3\")(x)\n",
    "x = Dropout(0.3)(x)\n",
    "x = Dense(n_hidden_4, activation='relu', name = \"Hidden_Layer_4\")(x)\n",
    "output = Dense(num_digits, activation='softmax', name = \"Output_Layer\")(x)"
   ]
  },
  {
   "cell_type": "code",
   "execution_count": 27,
   "id": "5348c37d-56b8-47b6-afe4-d3cd4f48c995",
   "metadata": {},
   "outputs": [
    {
     "name": "stdout",
     "output_type": "stream",
     "text": [
      "Model: \"model_5\"\n",
      "_________________________________________________________________\n",
      " Layer (type)                Output Shape              Param #   \n",
      "=================================================================\n",
      " input_6 (InputLayer)        [(None, 784)]             0         \n",
      "                                                                 \n",
      " Hidden_Layer_1 (Dense)      (None, 300)               235500    \n",
      "                                                                 \n",
      " dropout (Dropout)           (None, 300)               0         \n",
      "                                                                 \n",
      " Hidden_Layer_2 (Dense)      (None, 100)               30100     \n",
      "                                                                 \n",
      " dropout_1 (Dropout)         (None, 100)               0         \n",
      "                                                                 \n",
      " Hidden_Layer_3 (Dense)      (None, 100)               10100     \n",
      "                                                                 \n",
      " dropout_2 (Dropout)         (None, 100)               0         \n",
      "                                                                 \n",
      " Hidden_Layer_4 (Dense)      (None, 200)               20200     \n",
      "                                                                 \n",
      " Output_Layer (Dense)        (None, 10)                2010      \n",
      "                                                                 \n",
      "=================================================================\n",
      "Total params: 297,910\n",
      "Trainable params: 297,910\n",
      "Non-trainable params: 0\n",
      "_________________________________________________________________\n"
     ]
    }
   ],
   "source": [
    "# Our model would have '6' layers - input layer, 4 hidden layer and 1 output layer\n",
    "model4 = Model(Inp, output)\n",
    "model4.summary() # We have 297,910 parameters to estimate"
   ]
  },
  {
   "cell_type": "code",
   "execution_count": 28,
   "id": "7b7f17be-c4c7-4d10-84f1-93913e3422d0",
   "metadata": {},
   "outputs": [],
   "source": [
    "model4.compile(loss='categorical_crossentropy',\n",
    "              optimizer='adam',\n",
    "              metrics=['accuracy'])"
   ]
  },
  {
   "cell_type": "code",
   "execution_count": 29,
   "id": "8365dc39-1dd2-4854-94ae-65f489957068",
   "metadata": {},
   "outputs": [
    {
     "name": "stdout",
     "output_type": "stream",
     "text": [
      "Epoch 1/20\n",
      "336/336 [==============================] - 5s 10ms/step - loss: 0.5883 - accuracy: 0.8088 - val_loss: 0.1883 - val_accuracy: 0.9446\n",
      "Epoch 2/20\n",
      "336/336 [==============================] - 3s 9ms/step - loss: 0.2281 - accuracy: 0.9333 - val_loss: 0.1370 - val_accuracy: 0.9615\n",
      "Epoch 3/20\n",
      "336/336 [==============================] - 3s 8ms/step - loss: 0.1733 - accuracy: 0.9490 - val_loss: 0.1270 - val_accuracy: 0.9651\n",
      "Epoch 4/20\n",
      "336/336 [==============================] - 3s 8ms/step - loss: 0.1434 - accuracy: 0.9574 - val_loss: 0.1140 - val_accuracy: 0.9679\n",
      "Epoch 5/20\n",
      "336/336 [==============================] - 3s 8ms/step - loss: 0.1236 - accuracy: 0.9641 - val_loss: 0.1004 - val_accuracy: 0.9719\n",
      "Epoch 6/20\n",
      "336/336 [==============================] - 3s 8ms/step - loss: 0.1074 - accuracy: 0.9675 - val_loss: 0.1009 - val_accuracy: 0.9723\n",
      "Epoch 7/20\n",
      "336/336 [==============================] - 3s 8ms/step - loss: 0.0969 - accuracy: 0.9714 - val_loss: 0.0961 - val_accuracy: 0.9739\n",
      "Epoch 8/20\n",
      "336/336 [==============================] - 3s 8ms/step - loss: 0.0901 - accuracy: 0.9731 - val_loss: 0.0883 - val_accuracy: 0.9763\n",
      "Epoch 9/20\n",
      "336/336 [==============================] - 3s 8ms/step - loss: 0.0788 - accuracy: 0.9769 - val_loss: 0.0941 - val_accuracy: 0.9754\n",
      "Epoch 10/20\n",
      "336/336 [==============================] - 3s 8ms/step - loss: 0.0748 - accuracy: 0.9770 - val_loss: 0.0882 - val_accuracy: 0.9758\n",
      "Epoch 11/20\n",
      "336/336 [==============================] - 3s 9ms/step - loss: 0.0679 - accuracy: 0.9796 - val_loss: 0.0869 - val_accuracy: 0.9785\n",
      "Epoch 12/20\n",
      "336/336 [==============================] - 3s 8ms/step - loss: 0.0645 - accuracy: 0.9813 - val_loss: 0.0984 - val_accuracy: 0.9762\n",
      "Epoch 13/20\n",
      "336/336 [==============================] - 3s 8ms/step - loss: 0.0621 - accuracy: 0.9810 - val_loss: 0.0905 - val_accuracy: 0.9780\n",
      "Epoch 14/20\n",
      "336/336 [==============================] - 3s 8ms/step - loss: 0.0583 - accuracy: 0.9828 - val_loss: 0.0898 - val_accuracy: 0.9781\n",
      "Epoch 15/20\n",
      "336/336 [==============================] - 3s 9ms/step - loss: 0.0559 - accuracy: 0.9827 - val_loss: 0.0898 - val_accuracy: 0.9782\n",
      "Epoch 16/20\n",
      "336/336 [==============================] - 3s 9ms/step - loss: 0.0507 - accuracy: 0.9843 - val_loss: 0.0867 - val_accuracy: 0.9789\n",
      "Epoch 17/20\n",
      "336/336 [==============================] - 3s 9ms/step - loss: 0.0542 - accuracy: 0.9834 - val_loss: 0.0909 - val_accuracy: 0.9786\n",
      "Epoch 18/20\n",
      "336/336 [==============================] - 3s 8ms/step - loss: 0.0490 - accuracy: 0.9853 - val_loss: 0.0852 - val_accuracy: 0.9783\n",
      "Epoch 19/20\n",
      "336/336 [==============================] - 3s 9ms/step - loss: 0.0470 - accuracy: 0.9860 - val_loss: 0.0847 - val_accuracy: 0.9794\n",
      "Epoch 20/20\n",
      "336/336 [==============================] - 3s 8ms/step - loss: 0.0406 - accuracy: 0.9877 - val_loss: 0.0807 - val_accuracy: 0.9796\n"
     ]
    }
   ],
   "source": [
    "history = model4.fit(X_train, y_train,\n",
    "                    batch_size = batch_size,\n",
    "                    epochs = training_epochs,\n",
    "                    validation_data=(X_cv, y_cv))"
   ]
  },
  {
   "cell_type": "code",
   "execution_count": 33,
   "id": "e52bde31-1fbd-43e1-918e-937f93254576",
   "metadata": {},
   "outputs": [
    {
     "name": "stdout",
     "output_type": "stream",
     "text": [
      "140/140 [==============================] - 1s 5ms/step\n"
     ]
    },
    {
     "data": {
      "text/html": [
       "<div>\n",
       "<style scoped>\n",
       "    .dataframe tbody tr th:only-of-type {\n",
       "        vertical-align: middle;\n",
       "    }\n",
       "\n",
       "    .dataframe tbody tr th {\n",
       "        vertical-align: top;\n",
       "    }\n",
       "\n",
       "    .dataframe thead th {\n",
       "        text-align: right;\n",
       "    }\n",
       "</style>\n",
       "<table border=\"1\" class=\"dataframe\">\n",
       "  <thead>\n",
       "    <tr style=\"text-align: right;\">\n",
       "      <th></th>\n",
       "      <th>ImageId</th>\n",
       "      <th>Label</th>\n",
       "    </tr>\n",
       "  </thead>\n",
       "  <tbody>\n",
       "    <tr>\n",
       "      <th>0</th>\n",
       "      <td>1</td>\n",
       "      <td>2</td>\n",
       "    </tr>\n",
       "    <tr>\n",
       "      <th>1</th>\n",
       "      <td>2</td>\n",
       "      <td>0</td>\n",
       "    </tr>\n",
       "    <tr>\n",
       "      <th>2</th>\n",
       "      <td>3</td>\n",
       "      <td>9</td>\n",
       "    </tr>\n",
       "    <tr>\n",
       "      <th>3</th>\n",
       "      <td>4</td>\n",
       "      <td>9</td>\n",
       "    </tr>\n",
       "    <tr>\n",
       "      <th>4</th>\n",
       "      <td>5</td>\n",
       "      <td>3</td>\n",
       "    </tr>\n",
       "  </tbody>\n",
       "</table>\n",
       "</div>"
      ],
      "text/plain": [
       "   ImageId  Label\n",
       "0        1      2\n",
       "1        2      0\n",
       "2        3      9\n",
       "3        4      9\n",
       "4        5      3"
      ]
     },
     "execution_count": 33,
     "metadata": {},
     "output_type": "execute_result"
    }
   ],
   "source": [
    "test_pred = pd.DataFrame(model4.predict(X_test, batch_size=200))\n",
    "test_pred = pd.DataFrame(test_pred.idxmax(axis = 1))\n",
    "test_pred.index.name = 'ImageId'\n",
    "test_pred = test_pred.rename(columns = {0: 'Label'}).reset_index()\n",
    "test_pred['ImageId'] = test_pred['ImageId'] + 1\n",
    "\n",
    "test_pred.head()"
   ]
  },
  {
   "cell_type": "code",
   "execution_count": 31,
   "id": "9177b6aa-e5c9-4ada-92ae-793cfc030896",
   "metadata": {},
   "outputs": [],
   "source": [
    "test_pred.to_csv('model_result.csv', index = False)"
   ]
  }
 ],
 "metadata": {
  "kernelspec": {
   "display_name": "Python 3 (ipykernel)",
   "language": "python",
   "name": "python3"
  },
  "language_info": {
   "codemirror_mode": {
    "name": "ipython",
    "version": 3
   },
   "file_extension": ".py",
   "mimetype": "text/x-python",
   "name": "python",
   "nbconvert_exporter": "python",
   "pygments_lexer": "ipython3",
   "version": "3.11.5"
  }
 },
 "nbformat": 4,
 "nbformat_minor": 5
}
