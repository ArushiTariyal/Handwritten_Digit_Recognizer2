{
 "cells": [
  {
   "cell_type": "code",
   "execution_count": 1,
   "id": "e7714afe-278a-40dd-99a4-677643fdf809",
   "metadata": {},
   "outputs": [],
   "source": [
    "import pandas as pd\n",
    "import numpy as np\n",
    "\n",
    "np.random.seed(1212)\n",
    "\n",
    "import keras\n",
    "from keras.models import Model\n",
    "from keras.layers import *\n",
    "from keras import optimizers"
   ]
  },
  {
   "cell_type": "code",
   "execution_count": 2,
   "id": "ca74be62-4945-4a09-8957-3732fc3d28ee",
   "metadata": {},
   "outputs": [],
   "source": [
    "df_train = pd.read_csv(\"C://Users//arush//Python_Proj_HandwrittenDigitRecog//train.csv//train.csv\")\n",
    "df_test = pd.read_csv(\"C://Users//arush//Python_Proj_HandwrittenDigitRecog//test.csv//test.csv\")"
   ]
  },
  {
   "cell_type": "code",
   "execution_count": 3,
   "id": "d4831a2f-bb60-48ff-850f-3ce11f529493",
   "metadata": {},
   "outputs": [
    {
     "name": "stdout",
     "output_type": "stream",
     "text": [
      "(28000, 784)\n"
     ]
    }
   ],
   "source": [
    "df_features = df_train.iloc[:, 1:785]\n",
    "df_label = df_train.iloc[:, 0]\n",
    "\n",
    "X_test = df_test.iloc[:, 0:784]\n",
    "\n",
    "print(X_test.shape)"
   ]
  },
  {
   "cell_type": "code",
   "execution_count": 4,
   "id": "6e341683-9c00-4131-b9ce-8290024ea72c",
   "metadata": {},
   "outputs": [],
   "source": [
    "from sklearn.model_selection import train_test_split\n",
    "X_train, X_cv, y_train, y_cv = train_test_split(df_features, df_label, \n",
    "                                                test_size = 0.2,\n",
    "                                                random_state = 1212)\n",
    "\n",
    "X_train = X_train.values.reshape(33600, 784) #(33600, 784)\n",
    "X_cv = X_cv.values.reshape(8400, 784) #(8400, 784)\n",
    "\n",
    "X_test = X_test.values.reshape(28000, 784)"
   ]
  },
  {
   "cell_type": "code",
   "execution_count": 5,
   "id": "b22477f2-a1ee-4960-a6b3-59eb8f3552f2",
   "metadata": {},
   "outputs": [
    {
     "name": "stdout",
     "output_type": "stream",
     "text": [
      "(0, 255)\n"
     ]
    }
   ],
   "source": [
    "print((min(X_train[1]), max(X_train[1])))"
   ]
  },
  {
   "cell_type": "code",
   "execution_count": 6,
   "id": "2fd179d4-1bd0-47c6-8314-ae25121c01a6",
   "metadata": {},
   "outputs": [],
   "source": [
    "# Feature Normalization \n",
    "X_train = X_train.astype('float32'); X_cv= X_cv.astype('float32'); X_test = X_test.astype('float32')\n",
    "X_train /= 255; X_cv /= 255; X_test /= 255\n",
    "\n",
    "# Convert labels to One Hot Encoded\n",
    "num_digits = 10\n",
    "y_train = keras.utils.to_categorical(y_train, num_digits)\n",
    "y_cv = keras.utils.to_categorical(y_cv, num_digits)"
   ]
  },
  {
   "cell_type": "code",
   "execution_count": 7,
   "id": "d643ef94-e7f1-4f78-bcfc-c3926eab7f62",
   "metadata": {},
   "outputs": [
    {
     "name": "stdout",
     "output_type": "stream",
     "text": [
      "[0. 0. 1. 0. 0. 0. 0. 0. 0. 0.]\n",
      "[0. 0. 0. 0. 0. 0. 0. 1. 0. 0.]\n"
     ]
    }
   ],
   "source": [
    "# Printing 2 examples of labels after conversion\n",
    "print(y_train[0]) # 2\n",
    "print(y_train[3]) # 7"
   ]
  },
  {
   "cell_type": "code",
   "execution_count": 8,
   "id": "60878e42-f51f-427a-bdcc-1239b4d90f5d",
   "metadata": {},
   "outputs": [],
   "source": [
    "# Input Parameters\n",
    "n_input = 784 # number of features\n",
    "n_hidden_1 = 300\n",
    "n_hidden_2 = 100\n",
    "n_hidden_3 = 100\n",
    "n_hidden_4 = 200\n",
    "num_digits = 10"
   ]
  },
  {
   "cell_type": "code",
   "execution_count": 9,
   "id": "515f0af6-a8cd-4f72-a9cd-1e98f6221f56",
   "metadata": {},
   "outputs": [],
   "source": [
    "Inp = Input(shape=(784,))\n",
    "x = Dense(n_hidden_1, activation='relu', name = \"Hidden_Layer_1\")(Inp)\n",
    "x = Dense(n_hidden_2, activation='relu', name = \"Hidden_Layer_2\")(x)\n",
    "x = Dense(n_hidden_3, activation='relu', name = \"Hidden_Layer_3\")(x)\n",
    "x = Dense(n_hidden_4, activation='relu', name = \"Hidden_Layer_4\")(x)\n",
    "output = Dense(num_digits, activation='softmax', name = \"Output_Layer\")(x)"
   ]
  },
  {
   "cell_type": "code",
   "execution_count": 10,
   "id": "2f0e2691-5934-4591-9aff-fefc48b22f5a",
   "metadata": {},
   "outputs": [
    {
     "name": "stdout",
     "output_type": "stream",
     "text": [
      "Model: \"model\"\n",
      "_________________________________________________________________\n",
      " Layer (type)                Output Shape              Param #   \n",
      "=================================================================\n",
      " input_1 (InputLayer)        [(None, 784)]             0         \n",
      "                                                                 \n",
      " Hidden_Layer_1 (Dense)      (None, 300)               235500    \n",
      "                                                                 \n",
      " Hidden_Layer_2 (Dense)      (None, 100)               30100     \n",
      "                                                                 \n",
      " Hidden_Layer_3 (Dense)      (None, 100)               10100     \n",
      "                                                                 \n",
      " Hidden_Layer_4 (Dense)      (None, 200)               20200     \n",
      "                                                                 \n",
      " Output_Layer (Dense)        (None, 10)                2010      \n",
      "                                                                 \n",
      "=================================================================\n",
      "Total params: 297,910\n",
      "Trainable params: 297,910\n",
      "Non-trainable params: 0\n",
      "_________________________________________________________________\n"
     ]
    }
   ],
   "source": [
    "# Our model would have '6' layers - input layer, 4 hidden layer and 1 output layer\n",
    "model = Model(Inp, output)\n",
    "model.summary() # We have 297,910 parameters to estimate"
   ]
  },
  {
   "cell_type": "code",
   "execution_count": 11,
   "id": "b2b27971-ccc9-4ee3-8095-070b715f2544",
   "metadata": {},
   "outputs": [],
   "source": [
    "# Insert Hyperparameters\n",
    "learning_rate = 0.1\n",
    "training_epochs = 20\n",
    "batch_size = 100\n",
    "sgd = optimizers.SGD(learning_rate=learning_rate)"
   ]
  },
  {
   "cell_type": "code",
   "execution_count": 12,
   "id": "6975778f-0458-4605-ad5f-495e15bbfb2e",
   "metadata": {},
   "outputs": [],
   "source": [
    "# We rely on the plain vanilla Stochastic Gradient Descent as our optimizing methodology\n",
    "model.compile(loss='categorical_crossentropy',\n",
    "              optimizer='sgd',\n",
    "              metrics=['accuracy'])"
   ]
  },
  {
   "cell_type": "code",
   "execution_count": 13,
   "id": "b40f3f53-4632-4db8-9547-9c731d260727",
   "metadata": {},
   "outputs": [
    {
     "name": "stdout",
     "output_type": "stream",
     "text": [
      "Epoch 1/20\n",
      "336/336 - 4s - loss: 1.8764 - accuracy: 0.4901 - val_loss: 1.0554 - val_accuracy: 0.7620 - 4s/epoch - 13ms/step\n",
      "Epoch 2/20\n",
      "336/336 - 2s - loss: 0.6559 - accuracy: 0.8300 - val_loss: 0.4594 - val_accuracy: 0.8770 - 2s/epoch - 5ms/step\n",
      "Epoch 3/20\n",
      "336/336 - 2s - loss: 0.4064 - accuracy: 0.8847 - val_loss: 0.3610 - val_accuracy: 0.8979 - 2s/epoch - 5ms/step\n",
      "Epoch 4/20\n",
      "336/336 - 2s - loss: 0.3367 - accuracy: 0.9018 - val_loss: 0.3199 - val_accuracy: 0.9085 - 2s/epoch - 5ms/step\n",
      "Epoch 5/20\n",
      "336/336 - 2s - loss: 0.2979 - accuracy: 0.9126 - val_loss: 0.2884 - val_accuracy: 0.9133 - 2s/epoch - 5ms/step\n",
      "Epoch 6/20\n",
      "336/336 - 2s - loss: 0.2688 - accuracy: 0.9225 - val_loss: 0.2715 - val_accuracy: 0.9206 - 2s/epoch - 6ms/step\n",
      "Epoch 7/20\n",
      "336/336 - 2s - loss: 0.2478 - accuracy: 0.9278 - val_loss: 0.2475 - val_accuracy: 0.9240 - 2s/epoch - 5ms/step\n",
      "Epoch 8/20\n",
      "336/336 - 2s - loss: 0.2294 - accuracy: 0.9324 - val_loss: 0.2307 - val_accuracy: 0.9319 - 2s/epoch - 7ms/step\n",
      "Epoch 9/20\n",
      "336/336 - 2s - loss: 0.2137 - accuracy: 0.9383 - val_loss: 0.2213 - val_accuracy: 0.9342 - 2s/epoch - 6ms/step\n",
      "Epoch 10/20\n",
      "336/336 - 2s - loss: 0.1984 - accuracy: 0.9417 - val_loss: 0.2075 - val_accuracy: 0.9389 - 2s/epoch - 5ms/step\n",
      "Epoch 11/20\n",
      "336/336 - 2s - loss: 0.1870 - accuracy: 0.9451 - val_loss: 0.1961 - val_accuracy: 0.9420 - 2s/epoch - 5ms/step\n",
      "Epoch 12/20\n",
      "336/336 - 2s - loss: 0.1751 - accuracy: 0.9486 - val_loss: 0.1872 - val_accuracy: 0.9445 - 2s/epoch - 6ms/step\n",
      "Epoch 13/20\n",
      "336/336 - 2s - loss: 0.1650 - accuracy: 0.9515 - val_loss: 0.1795 - val_accuracy: 0.9467 - 2s/epoch - 5ms/step\n",
      "Epoch 14/20\n",
      "336/336 - 2s - loss: 0.1553 - accuracy: 0.9544 - val_loss: 0.1740 - val_accuracy: 0.9481 - 2s/epoch - 5ms/step\n",
      "Epoch 15/20\n",
      "336/336 - 2s - loss: 0.1467 - accuracy: 0.9580 - val_loss: 0.1655 - val_accuracy: 0.9508 - 2s/epoch - 6ms/step\n",
      "Epoch 16/20\n",
      "336/336 - 2s - loss: 0.1388 - accuracy: 0.9593 - val_loss: 0.1662 - val_accuracy: 0.9515 - 2s/epoch - 6ms/step\n",
      "Epoch 17/20\n",
      "336/336 - 2s - loss: 0.1316 - accuracy: 0.9613 - val_loss: 0.1608 - val_accuracy: 0.9526 - 2s/epoch - 6ms/step\n",
      "Epoch 18/20\n",
      "336/336 - 2s - loss: 0.1244 - accuracy: 0.9636 - val_loss: 0.1551 - val_accuracy: 0.9558 - 2s/epoch - 6ms/step\n",
      "Epoch 19/20\n",
      "336/336 - 2s - loss: 0.1183 - accuracy: 0.9659 - val_loss: 0.1477 - val_accuracy: 0.9570 - 2s/epoch - 6ms/step\n",
      "Epoch 20/20\n",
      "336/336 - 2s - loss: 0.1122 - accuracy: 0.9679 - val_loss: 0.1420 - val_accuracy: 0.9585 - 2s/epoch - 6ms/step\n"
     ]
    }
   ],
   "source": [
    "history1 = model.fit(X_train, y_train,\n",
    "                     batch_size = batch_size,\n",
    "                     epochs = training_epochs,\n",
    "                     verbose = 2,\n",
    "                     validation_data=(X_cv, y_cv))"
   ]
  },
  {
   "cell_type": "code",
   "execution_count": 14,
   "id": "f0df3ec3-72d6-4c6f-97b7-dab3c1a54c65",
   "metadata": {},
   "outputs": [],
   "source": [
    "Inp = Input(shape=(784,))\n",
    "x = Dense(n_hidden_1, activation='relu', name = \"Hidden_Layer_1\")(Inp)\n",
    "x = Dense(n_hidden_2, activation='relu', name = \"Hidden_Layer_2\")(x)\n",
    "x = Dense(n_hidden_3, activation='relu', name = \"Hidden_Layer_3\")(x)\n",
    "x = Dense(n_hidden_4, activation='relu', name = \"Hidden_Layer_4\")(x)\n",
    "output = Dense(num_digits, activation='softmax', name = \"Output_Layer\")(x)\n",
    "\n",
    "# We rely on ADAM as our optimizing methodology\n",
    "adam = keras.optimizers.Adam(learning_rate=learning_rate)\n",
    "model2 = Model(Inp, output)\n",
    "\n",
    "model2.compile(loss='categorical_crossentropy',\n",
    "              optimizer='adam',\n",
    "              metrics=['accuracy'])"
   ]
  },
  {
   "cell_type": "code",
   "execution_count": 15,
   "id": "e8a21ff2-2b65-47cc-82ab-6ad41fd1c8a3",
   "metadata": {},
   "outputs": [
    {
     "name": "stdout",
     "output_type": "stream",
     "text": [
      "Epoch 1/20\n",
      "336/336 - 4s - loss: 0.3427 - accuracy: 0.8958 - val_loss: 0.1855 - val_accuracy: 0.9429 - 4s/epoch - 12ms/step\n",
      "Epoch 2/20\n",
      "336/336 - 2s - loss: 0.1245 - accuracy: 0.9614 - val_loss: 0.1276 - val_accuracy: 0.9601 - 2s/epoch - 6ms/step\n",
      "Epoch 3/20\n",
      "336/336 - 2s - loss: 0.0797 - accuracy: 0.9749 - val_loss: 0.1020 - val_accuracy: 0.9701 - 2s/epoch - 6ms/step\n",
      "Epoch 4/20\n",
      "336/336 - 3s - loss: 0.0564 - accuracy: 0.9825 - val_loss: 0.0932 - val_accuracy: 0.9717 - 3s/epoch - 9ms/step\n",
      "Epoch 5/20\n",
      "336/336 - 2s - loss: 0.0459 - accuracy: 0.9856 - val_loss: 0.0870 - val_accuracy: 0.9754 - 2s/epoch - 7ms/step\n",
      "Epoch 6/20\n",
      "336/336 - 2s - loss: 0.0359 - accuracy: 0.9888 - val_loss: 0.1117 - val_accuracy: 0.9707 - 2s/epoch - 6ms/step\n",
      "Epoch 7/20\n",
      "336/336 - 2s - loss: 0.0307 - accuracy: 0.9896 - val_loss: 0.1077 - val_accuracy: 0.9714 - 2s/epoch - 6ms/step\n",
      "Epoch 8/20\n",
      "336/336 - 2s - loss: 0.0249 - accuracy: 0.9922 - val_loss: 0.0947 - val_accuracy: 0.9763 - 2s/epoch - 6ms/step\n",
      "Epoch 9/20\n",
      "336/336 - 2s - loss: 0.0188 - accuracy: 0.9937 - val_loss: 0.1082 - val_accuracy: 0.9740 - 2s/epoch - 6ms/step\n",
      "Epoch 10/20\n",
      "336/336 - 2s - loss: 0.0228 - accuracy: 0.9924 - val_loss: 0.0910 - val_accuracy: 0.9783 - 2s/epoch - 7ms/step\n",
      "Epoch 11/20\n",
      "336/336 - 2s - loss: 0.0242 - accuracy: 0.9923 - val_loss: 0.0926 - val_accuracy: 0.9775 - 2s/epoch - 7ms/step\n",
      "Epoch 12/20\n",
      "336/336 - 2s - loss: 0.0183 - accuracy: 0.9938 - val_loss: 0.1129 - val_accuracy: 0.9750 - 2s/epoch - 6ms/step\n",
      "Epoch 13/20\n",
      "336/336 - 2s - loss: 0.0154 - accuracy: 0.9953 - val_loss: 0.1139 - val_accuracy: 0.9746 - 2s/epoch - 6ms/step\n",
      "Epoch 14/20\n",
      "336/336 - 2s - loss: 0.0159 - accuracy: 0.9947 - val_loss: 0.1218 - val_accuracy: 0.9763 - 2s/epoch - 6ms/step\n",
      "Epoch 15/20\n",
      "336/336 - 2s - loss: 0.0152 - accuracy: 0.9952 - val_loss: 0.1183 - val_accuracy: 0.9754 - 2s/epoch - 6ms/step\n",
      "Epoch 16/20\n",
      "336/336 - 2s - loss: 0.0164 - accuracy: 0.9948 - val_loss: 0.1058 - val_accuracy: 0.9774 - 2s/epoch - 6ms/step\n",
      "Epoch 17/20\n",
      "336/336 - 2s - loss: 0.0076 - accuracy: 0.9976 - val_loss: 0.1196 - val_accuracy: 0.9776 - 2s/epoch - 6ms/step\n",
      "Epoch 18/20\n",
      "336/336 - 2s - loss: 0.0127 - accuracy: 0.9962 - val_loss: 0.1395 - val_accuracy: 0.9735 - 2s/epoch - 6ms/step\n",
      "Epoch 19/20\n",
      "336/336 - 2s - loss: 0.0157 - accuracy: 0.9951 - val_loss: 0.1302 - val_accuracy: 0.9776 - 2s/epoch - 7ms/step\n",
      "Epoch 20/20\n",
      "336/336 - 2s - loss: 0.0159 - accuracy: 0.9949 - val_loss: 0.1133 - val_accuracy: 0.9776 - 2s/epoch - 7ms/step\n"
     ]
    }
   ],
   "source": [
    "history2 = model2.fit(X_train, y_train,\n",
    "                      batch_size = batch_size,\n",
    "                      epochs = training_epochs,\n",
    "                      verbose = 2,\n",
    "                      validation_data=(X_cv, y_cv))"
   ]
  },
  {
   "cell_type": "code",
   "execution_count": 16,
   "id": "9ed881ee-364b-4ac3-9054-2ab8982c66d7",
   "metadata": {},
   "outputs": [],
   "source": [
    "Inp = Input(shape=(784,))\n",
    "x = Dense(n_hidden_1, activation='relu', name = \"Hidden_Layer_1\")(Inp)\n",
    "x = Dense(n_hidden_2, activation='relu', name = \"Hidden_Layer_2\")(x)\n",
    "x = Dense(n_hidden_3, activation='relu', name = \"Hidden_Layer_3\")(x)\n",
    "x = Dense(n_hidden_4, activation='relu', name = \"Hidden_Layer_4\")(x)\n",
    "output = Dense(num_digits, activation='softmax', name = \"Output_Layer\")(x)\n",
    "\n",
    "learning_rate = 0.01\n",
    "adam = keras.optimizers.Adam(learning_rate=learning_rate)\n",
    "model2a = Model(Inp, output)\n",
    "\n",
    "model2a.compile(loss='categorical_crossentropy',\n",
    "              optimizer='adam',\n",
    "              metrics=['accuracy'])"
   ]
  },
  {
   "cell_type": "code",
   "execution_count": 17,
   "id": "61ff4b92-59cd-4fd4-9335-9dca407d0ee1",
   "metadata": {},
   "outputs": [
    {
     "name": "stdout",
     "output_type": "stream",
     "text": [
      "Epoch 1/20\n",
      "336/336 - 4s - loss: 0.3483 - accuracy: 0.8938 - val_loss: 0.1513 - val_accuracy: 0.9544 - 4s/epoch - 12ms/step\n",
      "Epoch 2/20\n",
      "336/336 - 2s - loss: 0.1232 - accuracy: 0.9620 - val_loss: 0.1347 - val_accuracy: 0.9596 - 2s/epoch - 6ms/step\n",
      "Epoch 3/20\n",
      "336/336 - 2s - loss: 0.0789 - accuracy: 0.9753 - val_loss: 0.1188 - val_accuracy: 0.9652 - 2s/epoch - 6ms/step\n",
      "Epoch 4/20\n",
      "336/336 - 2s - loss: 0.0604 - accuracy: 0.9806 - val_loss: 0.0987 - val_accuracy: 0.9688 - 2s/epoch - 6ms/step\n",
      "Epoch 5/20\n",
      "336/336 - 2s - loss: 0.0449 - accuracy: 0.9850 - val_loss: 0.0967 - val_accuracy: 0.9731 - 2s/epoch - 7ms/step\n",
      "Epoch 6/20\n",
      "336/336 - 2s - loss: 0.0406 - accuracy: 0.9869 - val_loss: 0.1095 - val_accuracy: 0.9696 - 2s/epoch - 6ms/step\n",
      "Epoch 7/20\n",
      "336/336 - 2s - loss: 0.0293 - accuracy: 0.9900 - val_loss: 0.0990 - val_accuracy: 0.9724 - 2s/epoch - 6ms/step\n",
      "Epoch 8/20\n",
      "336/336 - 2s - loss: 0.0231 - accuracy: 0.9920 - val_loss: 0.1105 - val_accuracy: 0.9720 - 2s/epoch - 6ms/step\n",
      "Epoch 9/20\n",
      "336/336 - 2s - loss: 0.0252 - accuracy: 0.9918 - val_loss: 0.1217 - val_accuracy: 0.9705 - 2s/epoch - 6ms/step\n",
      "Epoch 10/20\n",
      "336/336 - 2s - loss: 0.0223 - accuracy: 0.9926 - val_loss: 0.1095 - val_accuracy: 0.9743 - 2s/epoch - 6ms/step\n",
      "Epoch 11/20\n",
      "336/336 - 2s - loss: 0.0191 - accuracy: 0.9937 - val_loss: 0.1084 - val_accuracy: 0.9740 - 2s/epoch - 6ms/step\n",
      "Epoch 12/20\n",
      "336/336 - 2s - loss: 0.0143 - accuracy: 0.9956 - val_loss: 0.1468 - val_accuracy: 0.9695 - 2s/epoch - 6ms/step\n",
      "Epoch 13/20\n",
      "336/336 - 2s - loss: 0.0163 - accuracy: 0.9946 - val_loss: 0.1358 - val_accuracy: 0.9718 - 2s/epoch - 6ms/step\n",
      "Epoch 14/20\n",
      "336/336 - 2s - loss: 0.0160 - accuracy: 0.9945 - val_loss: 0.1211 - val_accuracy: 0.9713 - 2s/epoch - 6ms/step\n",
      "Epoch 15/20\n",
      "336/336 - 2s - loss: 0.0089 - accuracy: 0.9970 - val_loss: 0.1153 - val_accuracy: 0.9777 - 2s/epoch - 6ms/step\n",
      "Epoch 16/20\n",
      "336/336 - 2s - loss: 0.0156 - accuracy: 0.9953 - val_loss: 0.1385 - val_accuracy: 0.9712 - 2s/epoch - 6ms/step\n",
      "Epoch 17/20\n",
      "336/336 - 2s - loss: 0.0141 - accuracy: 0.9949 - val_loss: 0.1313 - val_accuracy: 0.9736 - 2s/epoch - 6ms/step\n",
      "Epoch 18/20\n",
      "336/336 - 2s - loss: 0.0129 - accuracy: 0.9955 - val_loss: 0.1183 - val_accuracy: 0.9762 - 2s/epoch - 6ms/step\n",
      "Epoch 19/20\n",
      "336/336 - 2s - loss: 0.0098 - accuracy: 0.9967 - val_loss: 0.1199 - val_accuracy: 0.9781 - 2s/epoch - 6ms/step\n",
      "Epoch 20/20\n",
      "336/336 - 2s - loss: 0.0116 - accuracy: 0.9963 - val_loss: 0.1426 - val_accuracy: 0.9685 - 2s/epoch - 6ms/step\n"
     ]
    }
   ],
   "source": [
    "history2a = model2a.fit(X_train, y_train,\n",
    "                        batch_size = batch_size,\n",
    "                        epochs = training_epochs,\n",
    "                        verbose = 2,\n",
    "                        validation_data=(X_cv, y_cv))"
   ]
  },
  {
   "cell_type": "code",
   "execution_count": 18,
   "id": "d4a69fd8-fb1a-41ab-acb0-a20ad35ea915",
   "metadata": {},
   "outputs": [],
   "source": [
    "Inp = Input(shape=(784,))\n",
    "x = Dense(n_hidden_1, activation='relu', name = \"Hidden_Layer_1\")(Inp)\n",
    "x = Dense(n_hidden_2, activation='relu', name = \"Hidden_Layer_2\")(x)\n",
    "x = Dense(n_hidden_3, activation='relu', name = \"Hidden_Layer_3\")(x)\n",
    "x = Dense(n_hidden_4, activation='relu', name = \"Hidden_Layer_4\")(x)\n",
    "output = Dense(num_digits, activation='softmax', name = \"Output_Layer\")(x)\n",
    "\n",
    "learning_rate = 0.5\n",
    "adam = keras.optimizers.Adam(learning_rate=learning_rate)\n",
    "model2b = Model(Inp, output)\n",
    "\n",
    "model2b.compile(loss='categorical_crossentropy',\n",
    "              optimizer='adam',\n",
    "              metrics=['accuracy'])"
   ]
  },
  {
   "cell_type": "code",
   "execution_count": 19,
   "id": "4b9bd2a1-7c76-434b-b4eb-bd75e98a5725",
   "metadata": {},
   "outputs": [
    {
     "name": "stdout",
     "output_type": "stream",
     "text": [
      "Epoch 1/20\n",
      "336/336 [==============================] - 4s 8ms/step - loss: 0.3476 - accuracy: 0.8961 - val_loss: 0.1677 - val_accuracy: 0.9519\n",
      "Epoch 2/20\n",
      "336/336 [==============================] - 2s 7ms/step - loss: 0.1228 - accuracy: 0.9619 - val_loss: 0.1176 - val_accuracy: 0.9656\n",
      "Epoch 3/20\n",
      "336/336 [==============================] - 2s 7ms/step - loss: 0.0806 - accuracy: 0.9748 - val_loss: 0.0906 - val_accuracy: 0.9744\n",
      "Epoch 4/20\n",
      "336/336 [==============================] - 2s 7ms/step - loss: 0.0590 - accuracy: 0.9807 - val_loss: 0.1039 - val_accuracy: 0.9710\n",
      "Epoch 5/20\n",
      "336/336 [==============================] - 2s 7ms/step - loss: 0.0436 - accuracy: 0.9863 - val_loss: 0.0909 - val_accuracy: 0.9756\n",
      "Epoch 6/20\n",
      "336/336 [==============================] - 3s 8ms/step - loss: 0.0333 - accuracy: 0.9894 - val_loss: 0.1059 - val_accuracy: 0.9695\n",
      "Epoch 7/20\n",
      "336/336 [==============================] - 2s 7ms/step - loss: 0.0299 - accuracy: 0.9907 - val_loss: 0.1070 - val_accuracy: 0.9726\n",
      "Epoch 8/20\n",
      "336/336 [==============================] - 2s 7ms/step - loss: 0.0248 - accuracy: 0.9922 - val_loss: 0.1043 - val_accuracy: 0.9737\n",
      "Epoch 9/20\n",
      "336/336 [==============================] - 2s 7ms/step - loss: 0.0227 - accuracy: 0.9926 - val_loss: 0.1121 - val_accuracy: 0.9730\n",
      "Epoch 10/20\n",
      "336/336 [==============================] - 2s 7ms/step - loss: 0.0204 - accuracy: 0.9932 - val_loss: 0.1126 - val_accuracy: 0.9742\n",
      "Epoch 11/20\n",
      "336/336 [==============================] - 2s 7ms/step - loss: 0.0217 - accuracy: 0.9927 - val_loss: 0.0973 - val_accuracy: 0.9777\n",
      "Epoch 12/20\n",
      "336/336 [==============================] - 2s 7ms/step - loss: 0.0146 - accuracy: 0.9956 - val_loss: 0.1058 - val_accuracy: 0.9745\n",
      "Epoch 13/20\n",
      "336/336 [==============================] - 2s 7ms/step - loss: 0.0184 - accuracy: 0.9941 - val_loss: 0.1059 - val_accuracy: 0.9736\n",
      "Epoch 14/20\n",
      "336/336 [==============================] - 2s 7ms/step - loss: 0.0143 - accuracy: 0.9956 - val_loss: 0.1076 - val_accuracy: 0.9764\n",
      "Epoch 15/20\n",
      "336/336 [==============================] - 2s 7ms/step - loss: 0.0195 - accuracy: 0.9937 - val_loss: 0.1109 - val_accuracy: 0.9751\n",
      "Epoch 16/20\n",
      "336/336 [==============================] - 2s 7ms/step - loss: 0.0129 - accuracy: 0.9961 - val_loss: 0.1156 - val_accuracy: 0.9771\n",
      "Epoch 17/20\n",
      "336/336 [==============================] - 2s 7ms/step - loss: 0.0101 - accuracy: 0.9970 - val_loss: 0.1068 - val_accuracy: 0.9790\n",
      "Epoch 18/20\n",
      "336/336 [==============================] - 2s 7ms/step - loss: 0.0152 - accuracy: 0.9953 - val_loss: 0.1338 - val_accuracy: 0.9733\n",
      "Epoch 19/20\n",
      "336/336 [==============================] - 2s 7ms/step - loss: 0.0128 - accuracy: 0.9957 - val_loss: 0.1310 - val_accuracy: 0.9743\n",
      "Epoch 20/20\n",
      "336/336 [==============================] - 2s 7ms/step - loss: 0.0146 - accuracy: 0.9957 - val_loss: 0.1106 - val_accuracy: 0.9757\n"
     ]
    }
   ],
   "source": [
    "history2b = model2b.fit(X_train, y_train,\n",
    "                        batch_size = batch_size,\n",
    "                        epochs = training_epochs,\n",
    "                            validation_data=(X_cv, y_cv))"
   ]
  },
  {
   "cell_type": "code",
   "execution_count": 20,
   "id": "c0d9cb76-24ce-47d8-ab29-1983afcf6d59",
   "metadata": {},
   "outputs": [],
   "source": [
    "# Input Parameters\n",
    "n_input = 784 # number of features\n",
    "n_hidden_1 = 300\n",
    "n_hidden_2 = 100\n",
    "n_hidden_3 = 100\n",
    "n_hidden_4 = 100\n",
    "n_hidden_5 = 200\n",
    "num_digits = 10"
   ]
  },
  {
   "cell_type": "code",
   "execution_count": 21,
   "id": "181aba91-b160-400e-9833-48ab6f3dfc39",
   "metadata": {},
   "outputs": [],
   "source": [
    "Inp = Input(shape=(784,))\n",
    "x = Dense(n_hidden_1, activation='relu', name = \"Hidden_Layer_1\")(Inp)\n",
    "x = Dense(n_hidden_2, activation='relu', name = \"Hidden_Layer_2\")(x)\n",
    "x = Dense(n_hidden_3, activation='relu', name = \"Hidden_Layer_3\")(x)\n",
    "x = Dense(n_hidden_4, activation='relu', name = \"Hidden_Layer_4\")(x)\n",
    "x = Dense(n_hidden_5, activation='relu', name = \"Hidden_Layer_5\")(x)\n",
    "output = Dense(num_digits, activation='softmax', name = \"Output_Layer\")(x)"
   ]
  },
  {
   "cell_type": "code",
   "execution_count": 22,
   "id": "331b55be-4611-48b9-b993-7c6e0a57ae41",
   "metadata": {},
   "outputs": [
    {
     "name": "stdout",
     "output_type": "stream",
     "text": [
      "Model: \"model_4\"\n",
      "_________________________________________________________________\n",
      " Layer (type)                Output Shape              Param #   \n",
      "=================================================================\n",
      " input_5 (InputLayer)        [(None, 784)]             0         \n",
      "                                                                 \n",
      " Hidden_Layer_1 (Dense)      (None, 300)               235500    \n",
      "                                                                 \n",
      " Hidden_Layer_2 (Dense)      (None, 100)               30100     \n",
      "                                                                 \n",
      " Hidden_Layer_3 (Dense)      (None, 100)               10100     \n",
      "                                                                 \n",
      " Hidden_Layer_4 (Dense)      (None, 100)               10100     \n",
      "                                                                 \n",
      " Hidden_Layer_5 (Dense)      (None, 200)               20200     \n",
      "                                                                 \n",
      " Output_Layer (Dense)        (None, 10)                2010      \n",
      "                                                                 \n",
      "=================================================================\n",
      "Total params: 308,010\n",
      "Trainable params: 308,010\n",
      "Non-trainable params: 0\n",
      "_________________________________________________________________\n"
     ]
    }
   ],
   "source": [
    "# Our model would have '7' layers - input layer, 5 hidden layer and 1 output layer\n",
    "model3 = Model(Inp, output)\n",
    "model3.summary() # We have 308,010 parameters to estimate"
   ]
  },
  {
   "cell_type": "code",
   "execution_count": 23,
   "id": "e1e15cbb-b0a8-4f89-8df6-93275978a1f1",
   "metadata": {},
   "outputs": [],
   "source": [
    "# We rely on 'Adam' as our optimizing methodology\n",
    "adam = keras.optimizers.Adam(learning_rate=0.01)\n",
    "\n",
    "model3.compile(loss='categorical_crossentropy',\n",
    "              optimizer='adam',\n",
    "              metrics=['accuracy'])"
   ]
  },
  {
   "cell_type": "code",
   "execution_count": 24,
   "id": "7b4af26c-c749-4c2b-832c-da1a2090371b",
   "metadata": {},
   "outputs": [
    {
     "name": "stdout",
     "output_type": "stream",
     "text": [
      "Epoch 1/20\n",
      "336/336 [==============================] - 4s 9ms/step - loss: 0.3421 - accuracy: 0.8982 - val_loss: 0.1462 - val_accuracy: 0.9539\n",
      "Epoch 2/20\n",
      "336/336 [==============================] - 2s 7ms/step - loss: 0.1242 - accuracy: 0.9620 - val_loss: 0.1379 - val_accuracy: 0.9575\n",
      "Epoch 3/20\n",
      "336/336 [==============================] - 3s 8ms/step - loss: 0.0843 - accuracy: 0.9735 - val_loss: 0.1442 - val_accuracy: 0.9590\n",
      "Epoch 4/20\n",
      "336/336 [==============================] - 2s 7ms/step - loss: 0.0618 - accuracy: 0.9800 - val_loss: 0.1110 - val_accuracy: 0.9683\n",
      "Epoch 5/20\n",
      "336/336 [==============================] - 3s 8ms/step - loss: 0.0465 - accuracy: 0.9850 - val_loss: 0.1048 - val_accuracy: 0.9688\n",
      "Epoch 6/20\n",
      "336/336 [==============================] - 3s 8ms/step - loss: 0.0423 - accuracy: 0.9865 - val_loss: 0.0875 - val_accuracy: 0.9748\n",
      "Epoch 7/20\n",
      "336/336 [==============================] - 3s 7ms/step - loss: 0.0330 - accuracy: 0.9894 - val_loss: 0.1069 - val_accuracy: 0.9723\n",
      "Epoch 8/20\n",
      "336/336 [==============================] - 3s 8ms/step - loss: 0.0272 - accuracy: 0.9916 - val_loss: 0.0961 - val_accuracy: 0.9746\n",
      "Epoch 9/20\n",
      "336/336 [==============================] - 3s 8ms/step - loss: 0.0285 - accuracy: 0.9906 - val_loss: 0.1254 - val_accuracy: 0.9690\n",
      "Epoch 10/20\n",
      "336/336 [==============================] - 3s 7ms/step - loss: 0.0250 - accuracy: 0.9918 - val_loss: 0.1061 - val_accuracy: 0.9740\n",
      "Epoch 11/20\n",
      "336/336 [==============================] - 2s 7ms/step - loss: 0.0235 - accuracy: 0.9923 - val_loss: 0.1041 - val_accuracy: 0.9746\n",
      "Epoch 12/20\n",
      "336/336 [==============================] - 3s 8ms/step - loss: 0.0189 - accuracy: 0.9944 - val_loss: 0.1142 - val_accuracy: 0.9708\n",
      "Epoch 13/20\n",
      "336/336 [==============================] - 2s 7ms/step - loss: 0.0155 - accuracy: 0.9949 - val_loss: 0.1361 - val_accuracy: 0.9718\n",
      "Epoch 14/20\n",
      "336/336 [==============================] - 2s 7ms/step - loss: 0.0173 - accuracy: 0.9946 - val_loss: 0.1030 - val_accuracy: 0.9762\n",
      "Epoch 15/20\n",
      "336/336 [==============================] - 2s 7ms/step - loss: 0.0146 - accuracy: 0.9953 - val_loss: 0.1455 - val_accuracy: 0.9683\n",
      "Epoch 16/20\n",
      "336/336 [==============================] - 2s 7ms/step - loss: 0.0166 - accuracy: 0.9953 - val_loss: 0.1177 - val_accuracy: 0.9731\n",
      "Epoch 17/20\n",
      "336/336 [==============================] - 2s 7ms/step - loss: 0.0179 - accuracy: 0.9947 - val_loss: 0.1230 - val_accuracy: 0.9733\n",
      "Epoch 18/20\n",
      "336/336 [==============================] - 2s 7ms/step - loss: 0.0137 - accuracy: 0.9960 - val_loss: 0.1429 - val_accuracy: 0.9744\n",
      "Epoch 19/20\n",
      "336/336 [==============================] - 3s 9ms/step - loss: 0.0129 - accuracy: 0.9959 - val_loss: 0.1259 - val_accuracy: 0.9761\n",
      "Epoch 20/20\n",
      "336/336 [==============================] - 3s 8ms/step - loss: 0.0113 - accuracy: 0.9964 - val_loss: 0.1130 - val_accuracy: 0.9764\n"
     ]
    }
   ],
   "source": [
    "history3 = model3.fit(X_train, y_train,\n",
    "                      batch_size = batch_size,\n",
    "                      epochs = training_epochs,\n",
    "                      validation_data=(X_cv, y_cv))"
   ]
  },
  {
   "cell_type": "code",
   "execution_count": 25,
   "id": "78354e10-c5ea-44a2-9470-1acf2d059c25",
   "metadata": {},
   "outputs": [],
   "source": [
    "# Input Parameters\n",
    "n_input = 784 # number of features\n",
    "n_hidden_1 = 300\n",
    "n_hidden_2 = 100\n",
    "n_hidden_3 = 100\n",
    "n_hidden_4 = 200\n",
    "num_digits = 10"
   ]
  },
  {
   "cell_type": "code",
   "execution_count": 26,
   "id": "440cc067-c341-4e33-bd35-1bce613dcf76",
   "metadata": {},
   "outputs": [],
   "source": [
    "Inp = Input(shape=(784,))\n",
    "x = Dense(n_hidden_1, activation='relu', name = \"Hidden_Layer_1\")(Inp)\n",
    "x = Dropout(0.3)(x)\n",
    "x = Dense(n_hidden_2, activation='relu', name = \"Hidden_Layer_2\")(x)\n",
    "x = Dropout(0.3)(x)\n",
    "x = Dense(n_hidden_3, activation='relu', name = \"Hidden_Layer_3\")(x)\n",
    "x = Dropout(0.3)(x)\n",
    "x = Dense(n_hidden_4, activation='relu', name = \"Hidden_Layer_4\")(x)\n",
    "output = Dense(num_digits, activation='softmax', name = \"Output_Layer\")(x)"
   ]
  },
  {
   "cell_type": "code",
   "execution_count": 27,
   "id": "5348c37d-56b8-47b6-afe4-d3cd4f48c995",
   "metadata": {},
   "outputs": [
    {
     "name": "stdout",
     "output_type": "stream",
     "text": [
      "Model: \"model_5\"\n",
      "_________________________________________________________________\n",
      " Layer (type)                Output Shape              Param #   \n",
      "=================================================================\n",
      " input_6 (InputLayer)        [(None, 784)]             0         \n",
      "                                                                 \n",
      " Hidden_Layer_1 (Dense)      (None, 300)               235500    \n",
      "                                                                 \n",
      " dropout (Dropout)           (None, 300)               0         \n",
      "                                                                 \n",
      " Hidden_Layer_2 (Dense)      (None, 100)               30100     \n",
      "                                                                 \n",
      " dropout_1 (Dropout)         (None, 100)               0         \n",
      "                                                                 \n",
      " Hidden_Layer_3 (Dense)      (None, 100)               10100     \n",
      "                                                                 \n",
      " dropout_2 (Dropout)         (None, 100)               0         \n",
      "                                                                 \n",
      " Hidden_Layer_4 (Dense)      (None, 200)               20200     \n",
      "                                                                 \n",
      " Output_Layer (Dense)        (None, 10)                2010      \n",
      "                                                                 \n",
      "=================================================================\n",
      "Total params: 297,910\n",
      "Trainable params: 297,910\n",
      "Non-trainable params: 0\n",
      "_________________________________________________________________\n"
     ]
    }
   ],
   "source": [
    "# Our model would have '6' layers - input layer, 4 hidden layer and 1 output layer\n",
    "model4 = Model(Inp, output)\n",
    "model4.summary() # We have 297,910 parameters to estimate"
   ]
  },
  {
   "cell_type": "code",
   "execution_count": 28,
   "id": "7b7f17be-c4c7-4d10-84f1-93913e3422d0",
   "metadata": {},
   "outputs": [],
   "source": [
    "model4.compile(loss='categorical_crossentropy',\n",
    "              optimizer='adam',\n",
    "              metrics=['accuracy'])"
   ]
  },
  {
   "cell_type": "code",
   "execution_count": 29,
   "id": "8365dc39-1dd2-4854-94ae-65f489957068",
   "metadata": {},
   "outputs": [
    {
     "name": "stdout",
     "output_type": "stream",
     "text": [
      "Epoch 1/20\n",
      "336/336 [==============================] - 5s 10ms/step - loss: 0.5776 - accuracy: 0.8138 - val_loss: 0.1779 - val_accuracy: 0.9455\n",
      "Epoch 2/20\n",
      "336/336 [==============================] - 3s 8ms/step - loss: 0.2307 - accuracy: 0.9314 - val_loss: 0.1349 - val_accuracy: 0.9595\n",
      "Epoch 3/20\n",
      "336/336 [==============================] - 3s 8ms/step - loss: 0.1731 - accuracy: 0.9490 - val_loss: 0.1181 - val_accuracy: 0.9657\n",
      "Epoch 4/20\n",
      "336/336 [==============================] - 3s 8ms/step - loss: 0.1416 - accuracy: 0.9582 - val_loss: 0.1076 - val_accuracy: 0.9688\n",
      "Epoch 5/20\n",
      "336/336 [==============================] - 3s 8ms/step - loss: 0.1190 - accuracy: 0.9653 - val_loss: 0.1107 - val_accuracy: 0.9688\n",
      "Epoch 6/20\n",
      "336/336 [==============================] - 3s 8ms/step - loss: 0.1158 - accuracy: 0.9663 - val_loss: 0.1030 - val_accuracy: 0.9718\n",
      "Epoch 7/20\n",
      "336/336 [==============================] - 3s 8ms/step - loss: 0.0984 - accuracy: 0.9722 - val_loss: 0.0922 - val_accuracy: 0.9729\n",
      "Epoch 8/20\n",
      "336/336 [==============================] - 3s 8ms/step - loss: 0.0903 - accuracy: 0.9732 - val_loss: 0.0910 - val_accuracy: 0.9751\n",
      "Epoch 9/20\n",
      "336/336 [==============================] - 3s 8ms/step - loss: 0.0806 - accuracy: 0.9756 - val_loss: 0.0925 - val_accuracy: 0.9757\n",
      "Epoch 10/20\n",
      "336/336 [==============================] - 3s 8ms/step - loss: 0.0769 - accuracy: 0.9779 - val_loss: 0.1032 - val_accuracy: 0.9721\n",
      "Epoch 11/20\n",
      "336/336 [==============================] - 3s 8ms/step - loss: 0.0683 - accuracy: 0.9790 - val_loss: 0.0884 - val_accuracy: 0.9780\n",
      "Epoch 12/20\n",
      "336/336 [==============================] - 3s 8ms/step - loss: 0.0635 - accuracy: 0.9807 - val_loss: 0.1029 - val_accuracy: 0.9768\n",
      "Epoch 13/20\n",
      "336/336 [==============================] - 3s 8ms/step - loss: 0.0632 - accuracy: 0.9812 - val_loss: 0.0939 - val_accuracy: 0.9779\n",
      "Epoch 14/20\n",
      "336/336 [==============================] - 3s 8ms/step - loss: 0.0578 - accuracy: 0.9815 - val_loss: 0.0875 - val_accuracy: 0.9775\n",
      "Epoch 15/20\n",
      "336/336 [==============================] - 3s 8ms/step - loss: 0.0533 - accuracy: 0.9843 - val_loss: 0.0972 - val_accuracy: 0.9787\n",
      "Epoch 16/20\n",
      "336/336 [==============================] - 3s 8ms/step - loss: 0.0555 - accuracy: 0.9825 - val_loss: 0.0887 - val_accuracy: 0.9780\n",
      "Epoch 17/20\n",
      "336/336 [==============================] - 3s 8ms/step - loss: 0.0519 - accuracy: 0.9848 - val_loss: 0.0896 - val_accuracy: 0.9786\n",
      "Epoch 18/20\n",
      "336/336 [==============================] - 3s 8ms/step - loss: 0.0480 - accuracy: 0.9857 - val_loss: 0.0916 - val_accuracy: 0.9775\n",
      "Epoch 19/20\n",
      "336/336 [==============================] - 3s 8ms/step - loss: 0.0474 - accuracy: 0.9857 - val_loss: 0.0937 - val_accuracy: 0.9771\n",
      "Epoch 20/20\n",
      "336/336 [==============================] - 3s 8ms/step - loss: 0.0454 - accuracy: 0.9867 - val_loss: 0.0919 - val_accuracy: 0.9783\n"
     ]
    }
   ],
   "source": [
    "history = model4.fit(X_train, y_train,\n",
    "                    batch_size = batch_size,\n",
    "                    epochs = training_epochs,\n",
    "                    validation_data=(X_cv, y_cv))"
   ]
  },
  {
   "cell_type": "code",
   "execution_count": 30,
   "id": "e52bde31-1fbd-43e1-918e-937f93254576",
   "metadata": {},
   "outputs": [
    {
     "name": "stdout",
     "output_type": "stream",
     "text": [
      "140/140 [==============================] - 1s 4ms/step\n"
     ]
    },
    {
     "data": {
      "text/html": [
       "<div>\n",
       "<style scoped>\n",
       "    .dataframe tbody tr th:only-of-type {\n",
       "        vertical-align: middle;\n",
       "    }\n",
       "\n",
       "    .dataframe tbody tr th {\n",
       "        vertical-align: top;\n",
       "    }\n",
       "\n",
       "    .dataframe thead th {\n",
       "        text-align: right;\n",
       "    }\n",
       "</style>\n",
       "<table border=\"1\" class=\"dataframe\">\n",
       "  <thead>\n",
       "    <tr style=\"text-align: right;\">\n",
       "      <th></th>\n",
       "      <th>ImageId</th>\n",
       "      <th>Label</th>\n",
       "    </tr>\n",
       "  </thead>\n",
       "  <tbody>\n",
       "    <tr>\n",
       "      <th>0</th>\n",
       "      <td>1</td>\n",
       "      <td>2</td>\n",
       "    </tr>\n",
       "    <tr>\n",
       "      <th>1</th>\n",
       "      <td>2</td>\n",
       "      <td>0</td>\n",
       "    </tr>\n",
       "    <tr>\n",
       "      <th>2</th>\n",
       "      <td>3</td>\n",
       "      <td>9</td>\n",
       "    </tr>\n",
       "    <tr>\n",
       "      <th>3</th>\n",
       "      <td>4</td>\n",
       "      <td>9</td>\n",
       "    </tr>\n",
       "    <tr>\n",
       "      <th>4</th>\n",
       "      <td>5</td>\n",
       "      <td>3</td>\n",
       "    </tr>\n",
       "  </tbody>\n",
       "</table>\n",
       "</div>"
      ],
      "text/plain": [
       "   ImageId  Label\n",
       "0        1      2\n",
       "1        2      0\n",
       "2        3      9\n",
       "3        4      9\n",
       "4        5      3"
      ]
     },
     "execution_count": 30,
     "metadata": {},
     "output_type": "execute_result"
    }
   ],
   "source": [
    "test_pred = pd.DataFrame(model4.predict(X_test, batch_size=200))\n",
    "test_pred = pd.DataFrame(test_pred.idxmax(axis = 1))\n",
    "test_pred.index.name = 'ImageId'\n",
    "test_pred = test_pred.rename(columns = {0: 'Label'}).reset_index()\n",
    "test_pred['ImageId'] = test_pred['ImageId'] + 1\n",
    "\n",
    "test_pred.head()"
   ]
  },
  {
   "cell_type": "code",
   "execution_count": 31,
   "id": "9177b6aa-e5c9-4ada-92ae-793cfc030896",
   "metadata": {},
   "outputs": [],
   "source": [
    "test_pred.to_csv('model_result.csv', index = False)"
   ]
  }
 ],
 "metadata": {
  "kernelspec": {
   "display_name": "Python 3 (ipykernel)",
   "language": "python",
   "name": "python3"
  },
  "language_info": {
   "codemirror_mode": {
    "name": "ipython",
    "version": 3
   },
   "file_extension": ".py",
   "mimetype": "text/x-python",
   "name": "python",
   "nbconvert_exporter": "python",
   "pygments_lexer": "ipython3",
   "version": "3.10.13"
  }
 },
 "nbformat": 4,
 "nbformat_minor": 5
}
